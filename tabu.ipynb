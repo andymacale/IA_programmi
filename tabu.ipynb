{
 "cells": [
  {
   "cell_type": "markdown",
   "metadata": {},
   "source": [
    "# Problema del commesso viaggiatore - Tabu Search"
   ]
  },
  {
   "cell_type": "markdown",
   "metadata": {},
   "source": [
    "## Import ed inizializzazioni"
   ]
  },
  {
   "cell_type": "markdown",
   "metadata": {},
   "source": [
    "Import e parametri"
   ]
  },
  {
   "cell_type": "code",
   "execution_count": 80,
   "metadata": {},
   "outputs": [],
   "source": [
    "import copy # Per eseguire una copia negli stati\n",
    "MAX_CONT = 10 # Per la condizione di terminazione\n",
    "TENURE = 3 # Tabu tenure"
   ]
  },
  {
   "cell_type": "markdown",
   "metadata": {},
   "source": [
    "Inizializzazione dello stato e del tenure"
   ]
  },
  {
   "cell_type": "code",
   "execution_count": 81,
   "metadata": {},
   "outputs": [],
   "source": [
    "state = ['A', 'B', 'C', 'D', 'E']"
   ]
  },
  {
   "cell_type": "markdown",
   "metadata": {},
   "source": [
    "Inizializzazione delle connessione"
   ]
  },
  {
   "cell_type": "code",
   "execution_count": 82,
   "metadata": {},
   "outputs": [],
   "source": [
    "connections = {}\n",
    "connections['A'] = [['B', 4], ['C', 2], ['D',  1], ['E',  2]]\n",
    "connections['B'] = [['A', 4], ['C', 1], ['D', 2], ['E', 3]]\n",
    "connections['C'] = [['A', 2], ['B', 1], ['D', 3], ['E',  2]]\n",
    "connections['D'] = [['A', 1], ['B', 2], ['C',  3], ['E',  2]]\n",
    "connections['E'] = [['A', 2], ['B',  3], ['C',  2], ['D',  2]]"
   ]
  },
  {
   "cell_type": "markdown",
   "metadata": {},
   "source": [
    "## Funzioni"
   ]
  },
  {
   "cell_type": "markdown",
   "metadata": {},
   "source": [
    "Funzione di valutazione"
   ]
  },
  {
   "cell_type": "code",
   "execution_count": 83,
   "metadata": {},
   "outputs": [],
   "source": [
    "def eval_state(state):\n",
    "    len_path = 0 # lunghezza del percorso\n",
    "    dim= len(state)\n",
    "    for ind in range(dim):\n",
    "        ls = connections[state[ind]] # lista di tutte le connessioni\n",
    "        if ind < (dim-1): # dim - 1 perché prendi l'indice successivo\n",
    "            # Ancora non ha visitato tutte le citta'\n",
    "            succ_node = state[ind + 1]\n",
    "        else:\n",
    "            # Ha visitato tutte le citta'\n",
    "            succ_node = state[0]\n",
    "        # Cerca la distanza nel successore\n",
    "        for (succ, dist) in ls:\n",
    "            if succ == succ_node:\n",
    "                # Nodo successore trovato\n",
    "                len_path += dist # somma la distanza\n",
    "                break\n",
    "    return len_path"
   ]
  },
  {
   "cell_type": "markdown",
   "metadata": {},
   "source": [
    "Funzione per la generazione del vicinato"
   ]
  },
  {
   "cell_type": "code",
   "execution_count": 84,
   "metadata": {},
   "outputs": [],
   "source": [
    "def gen_succ(state):\n",
    "    # Genera la lista ordinata di successori di uno stato\n",
    "    ls = []\n",
    "    dim = len(state)\n",
    "    # Generazione dei successori\n",
    "    for ind in range(0, dim-1):\n",
    "        for inx in range(ind+1, dim):\n",
    "            # Copia l'intera struttura dello stato (deepcopy)\n",
    "            buffer = copy.deepcopy(state)\n",
    "            # Scambia i due elementi del buffer\n",
    "            temp = buffer[ind]\n",
    "            buffer[ind] = buffer[inx]\n",
    "            buffer[inx] = temp\n",
    "            # Valuta i successori e aggiungilo nella lista\n",
    "            eval_succ = eval_state(buffer)\n",
    "            ls.append((buffer, eval_succ, (state[ind], state[inx])))\n",
    "    ls.sort(key= lambda x : x[1]) # Ordina lista in base a eval_succ (x[1])\n",
    "    return ls"
   ]
  },
  {
   "cell_type": "markdown",
   "metadata": {},
   "source": [
    "## Algoritmo vero e proprio"
   ]
  },
  {
   "cell_type": "markdown",
   "metadata": {},
   "source": [
    "Test di assenza mossa"
   ]
  },
  {
   "cell_type": "code",
   "execution_count": 85,
   "metadata": {},
   "outputs": [],
   "source": [
    "def tabu_test(seq, tabu_list):\n",
    "    a, b = seq[2]\n",
    "    if ((a,b) in tabu_list or (b,a) in tabu_list):\n",
    "        absent = False\n",
    "    else:\n",
    "        absent = True\n",
    "    return absent"
   ]
  },
  {
   "cell_type": "markdown",
   "metadata": {},
   "source": [
    "Algoritmo"
   ]
  },
  {
   "cell_type": "code",
   "execution_count": null,
   "metadata": {},
   "outputs": [],
   "source": [
    "def tabu_search(state, tabu_tenure, connections):\n",
    "    # Stato iniziale\n",
    "    current = state\n",
    "    eval_current = eval_state(current)\n",
    "    # Inizializza la best\n",
    "    best = current\n",
    "    eval_best = eval_current\n",
    "    # Inizializzazione della lista tabu e del vicinato\n",
    "    tabu_list = {}\n",
    "    neighbors = []\n",
    "    # Contatore per la condizione di terminazione\n",
    "    cont = 0\n",
    "    # Esecuzione dell'algoritmo\n",
    "    while cont < MAX_CONT:\n",
    "        succ = gen_succ(current) # lista di successori\n",
    "        # Seleziona i successori che non si trovano nella tabu\n",
    "        neighbors = list(filter(lambda n : tabu_test(n, tabu_list), succ))\n",
    "        # Elementi di neighbors:\n",
    "        # I colonna: stato successivo\n",
    "        # II colonna: valutazione successiva\n",
    "        # III colonna: mossa successiva\n",
    "        next = neighbors[0][0]\n",
    "        eval_next = neighbors[0][1]\n",
    "        # Controllo se il successore e' meglio del best\n",
    "        delta = eval_best - eval_next\n",
    "        if delta > 0:\n",
    "            # Trovato successore migliore\n",
    "            best = next\n",
    "            eval_best = eval_next\n",
    "        # Aggiorna il successore\n",
    "        current = next\n",
    "        eval_current = eval_next\n",
    "        # Decrementa la tabu tenore e \n",
    "        # elimina gli elementi con tenure nulli\n",
    "        for move in tabu_list:\n",
    "            tabu_list[move] -= 1\n",
    "        tabu_list = {k : tabu_list[k] for k in tabu_list if tabu_list[k] != 0}\n",
    "        # Inserisci la prossima mossa nella tabu list\n",
    "        next_move = neighbors[0][2]\n",
    "        tabu_list[next_move] = tabu_tenure\n",
    "        # Aggiorna il contatore\n",
    "        cont += 1\n",
    "    # Aggiungi lo stato iniziale\n",
    "    best = best + [best[0]]\n",
    "    return (best, eval_best)"
   ]
  },
  {
   "cell_type": "markdown",
   "metadata": {},
   "source": [
    "## Main"
   ]
  },
  {
   "cell_type": "code",
   "execution_count": 87,
   "metadata": {},
   "outputs": [
    {
     "data": {
      "text/plain": [
       "(['C', 'B', 'D', 'A', 'E', 'C'], 8)"
      ]
     },
     "execution_count": 87,
     "metadata": {},
     "output_type": "execute_result"
    }
   ],
   "source": [
    "tabu_search(state, TENURE, connections)"
   ]
  }
 ],
 "metadata": {
  "kernelspec": {
   "display_name": "Python 3",
   "language": "python",
   "name": "python3"
  },
  "language_info": {
   "codemirror_mode": {
    "name": "ipython",
    "version": 3
   },
   "file_extension": ".py",
   "mimetype": "text/x-python",
   "name": "python",
   "nbconvert_exporter": "python",
   "pygments_lexer": "ipython3",
   "version": "3.13.2"
  }
 },
 "nbformat": 4,
 "nbformat_minor": 2
}
