{
 "cells": [
  {
   "cell_type": "markdown",
   "metadata": {},
   "source": [
    "# Ant Colony Optimization"
   ]
  },
  {
   "cell_type": "markdown",
   "metadata": {},
   "source": [
    "## Import ed iperparametri"
   ]
  },
  {
   "cell_type": "code",
   "execution_count": 17,
   "metadata": {},
   "outputs": [],
   "source": [
    "import numpy as np\n",
    "from numpy.random import choice as np_choice"
   ]
  },
  {
   "cell_type": "code",
   "execution_count": 18,
   "metadata": {},
   "outputs": [],
   "source": [
    "# Matrice delle distanze\n",
    "distances = np.array([[np.inf, 2, 2, 5, 7],\n",
    "                      [2, np.inf, 4, 8, 2],\n",
    "                      [2, 4, np.inf, 1, 3],\n",
    "                      [5, 8, 1, np.inf, 2],\n",
    "                      [7, 2, 3, 2, np.inf]])\n",
    "n_ants = 1 # numero di agenti per iterazione\n",
    "# Numero di agenti con le performance migliori\n",
    "n_best = 1\n",
    "n_iter = 100 # numero di iterazioni\n",
    "decay = 0.95 # fattore di evaporazione\n",
    "alfa = 1 # parametro alfa del feromone\n",
    "beta = 1 # parametro beta della distanza"
   ]
  },
  {
   "cell_type": "markdown",
   "metadata": {},
   "source": [
    "## Classe della colonia di formiche"
   ]
  },
  {
   "cell_type": "code",
   "execution_count": 19,
   "metadata": {},
   "outputs": [],
   "source": [
    "class AntColony(object):\n",
    "\n",
    "    # COSTRUTTORE\n",
    "    def __init__(self, distances, n_ants, n_best, n_iter, decay, alfa, beta):\n",
    "        self.distances = distances\n",
    "        # Si inizializza la matrice dei feromoni con\n",
    "        # una matrice di tutti 1 diviso la lunghezza\n",
    "        # del vettore delle distanze\n",
    "        self.pheromone = np.ones(self.distances.shape) / len(distances)\n",
    "        # Lista degli indici di ogni nodo\n",
    "        self.all_inds = range(len(distances))\n",
    "        self.n_ants = n_ants\n",
    "        self.n_best = n_best\n",
    "        self.n_iter = n_iter\n",
    "        self.decay = decay\n",
    "        self.alfa = alfa\n",
    "        self.beta = beta\n",
    "\n",
    "    # Scegli la prossima citta'\n",
    "    def pick_move(self, pheromone, dist, visited):\n",
    "        pheromone = np.copy(pheromone)\n",
    "        # Azzera i feromoni visitati\n",
    "        pheromone[list(visited)] = 0\n",
    "        # Calcola l'attrattivita' normalizzata di ogni citta'\n",
    "        row = pheromone ** self.alfa * ((1.0/ dist) ** self.beta)\n",
    "        norm_row = row / row.sum()\n",
    "        # Scelta aleatoria della prossima città\n",
    "        move = np_choice(self.all_inds, 1, p=norm_row)[0]\n",
    "        return move\n",
    "\n",
    "    # Genera il percorso\n",
    "    def gen_path(self, start):\n",
    "        path = [] # percorso\n",
    "        visited = set()\n",
    "        visited.add(start)\n",
    "        prev = start\n",
    "        for ind in range(len(self.distances)-1):\n",
    "            # Muoviti\n",
    "            move = self.pick_move(self.pheromone[prev],\n",
    "                                  self.distances[prev],\n",
    "                                  visited)\n",
    "            # Aggiungi il precedente e il nuovo\n",
    "            path.append((prev, move))\n",
    "            # Aggiorna il precedente\n",
    "            prev = move\n",
    "            # Aggiungi il nuovo ai visitati\n",
    "            visited.add(move)\n",
    "        # Torna al punto di partenza\n",
    "        path.append((prev, start))\n",
    "        return path\n",
    "\n",
    "    # Calcola di distanza di un percorso\n",
    "    def gen_path_dist(self, path):\n",
    "        dist = 0\n",
    "        for elem in path:\n",
    "            dist += self.distances[elem]\n",
    "        return dist\n",
    "\n",
    "    # Calcola di distanza di ogni percorso\n",
    "    def gen_all_paths(self):\n",
    "        all_paths = []\n",
    "        for ind in range(self.n_ants):\n",
    "            path = self.gen_path(0)\n",
    "            all_paths.append((path, self.gen_path_dist(path)))\n",
    "        return all_paths\n",
    "    \n",
    "    # Aggiorna il feromone\n",
    "    def spread_pheromone(self, all_paths, n_best, shortest_path):\n",
    "        # Ordina i percorsi in base alla distanza\n",
    "        sorted_paths = sorted(all_paths, key=lambda x: x[1])\n",
    "        # Considera solo i percorsi migliori\n",
    "        for path, dist in sorted_paths[:n_best]:\n",
    "            for move in path:\n",
    "                # Aumenta il feromone in ogni percorso\n",
    "                self.pheromone[move] += 1.0 / self.distances[move]\n",
    "\n",
    "    def run(self):\n",
    "        shortest_path = None\n",
    "        all_time_shortest_path = (\"placeholder\", np.inf)\n",
    "        for ind in range(self.n_iter):\n",
    "            all_paths = self.gen_all_paths()\n",
    "            self.spread_pheromone(all_paths,\n",
    "                                  self.n_best, \n",
    "                                  shortest_path = shortest_path)\n",
    "            shortest_path = min(all_paths, key=lambda x: x[1])\n",
    "            if shortest_path[1] < all_time_shortest_path[1]:\n",
    "                # Trovato percorso migliore\n",
    "                all_time_shortest_path = shortest_path\n",
    "            # Evoporazione\n",
    "            self.pheromone *= self.decay\n",
    "        return all_time_shortest_path"
   ]
  },
  {
   "cell_type": "markdown",
   "metadata": {},
   "source": [
    "## Main"
   ]
  },
  {
   "cell_type": "code",
   "execution_count": null,
   "metadata": {},
   "outputs": [
    {
     "name": "stdout",
     "output_type": "stream",
     "text": [
      "shortest_path: [(0, 2), (2, 3), (3, 4), (4, 1), (1, 0)] distanza: 9.0\n"
     ]
    }
   ],
   "source": [
    "ant_colony = AntColony(distances, n_ants, n_best, n_iter, decay, alfa, beta)\n",
    "best_path, best_dist = ant_colony.run()\n",
    "best_path_clean = [(int(a), int(b)) for a, b in best_path]\n",
    "print(\"shortest_path:\", best_path_clean, \"distanza:\", float(best_dist))"
   ]
  }
 ],
 "metadata": {
  "kernelspec": {
   "display_name": "Python 3",
   "language": "python",
   "name": "python3"
  },
  "language_info": {
   "codemirror_mode": {
    "name": "ipython",
    "version": 3
   },
   "file_extension": ".py",
   "mimetype": "text/x-python",
   "name": "python",
   "nbconvert_exporter": "python",
   "pygments_lexer": "ipython3",
   "version": "3.13.2"
  }
 },
 "nbformat": 4,
 "nbformat_minor": 2
}
