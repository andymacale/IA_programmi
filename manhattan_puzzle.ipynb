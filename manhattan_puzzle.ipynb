{
  "cells": [
    {
      "cell_type": "markdown",
      "metadata": {
        "id": "view-in-github",
        "colab_type": "text"
      },
      "source": [
        "<a href=\"https://colab.research.google.com/github/andymacale/IA_programmi/blob/main/manhattan_puzzle.ipynb\" target=\"_parent\"><img src=\"https://colab.research.google.com/assets/colab-badge.svg\" alt=\"Open In Colab\"/></a>"
      ]
    },
    {
      "cell_type": "code",
      "execution_count": 1,
      "metadata": {
        "id": "quCbEzdgPvfp"
      },
      "outputs": [],
      "source": [
        "from typing import Sequence\n",
        "\n",
        "def manhattan_distance_matrix(state: Sequence[Sequence[int]],\n",
        "                              goal:  Sequence[Sequence[int]]) -> int:\n",
        "    \"\"\"\n",
        "    Distanza di Manhattan per puzzle n×n (0 = vuoto),\n",
        "    usando matrici (liste/tuple di righe).\n",
        "    \"\"\"\n",
        "    if not state or not goal:\n",
        "        raise ValueError(\"Le matrici non possono essere vuote.\")\n",
        "    n = len(state)\n",
        "    if len(goal) != n or any(len(r) != n for r in state) or any(len(r) != n for r in goal):\n",
        "        raise ValueError(\"State e goal devono essere matrici quadrate della stessa dimensione n×n.\")\n",
        "\n",
        "    # Mappa: tassello -> (riga, colonna) nel goal (ignora 0)\n",
        "    goal_pos = {}\n",
        "    for r in range(n):\n",
        "        for c in range(n):\n",
        "            v = goal[r][c]\n",
        "            if v != 0:\n",
        "                goal_pos[v] = (r, c)\n",
        "\n",
        "    # Somma delle distanze |dr| + |dc| per ogni tassello != 0\n",
        "    dist = 0\n",
        "    for r in range(n):\n",
        "        for c in range(n):\n",
        "            v = state[r][c]\n",
        "            if v == 0:\n",
        "                continue\n",
        "            gr, gc = goal_pos[v]  # si assume che i valori coincidano tra state e goal\n",
        "            dist += abs(r - gr) + abs(c - gc)\n",
        "    return dist"
      ]
    },
    {
      "cell_type": "code",
      "execution_count": 2,
      "metadata": {
        "colab": {
          "base_uri": "https://localhost:8080/",
          "height": 0
        },
        "id": "NGEzFw9FPvfq",
        "outputId": "b9701a7d-71d7-4ecb-ce50-6de4f0837fc9"
      },
      "outputs": [
        {
          "output_type": "stream",
          "name": "stdout",
          "text": [
            "14\n"
          ]
        }
      ],
      "source": [
        "state = [\n",
        "    [7, 2, 4],\n",
        "    [5, 0, 6],\n",
        "    [8, 3, 1],\n",
        "]\n",
        "goal = [\n",
        "    [1, 2, 3],\n",
        "    [4, 5, 6],\n",
        "    [7, 8, 0],\n",
        "]\n",
        "print(manhattan_distance_matrix(state, goal))  # 14"
      ]
    }
  ],
  "metadata": {
    "kernelspec": {
      "display_name": "Python 3",
      "language": "python",
      "name": "python3"
    },
    "language_info": {
      "codemirror_mode": {
        "name": "ipython",
        "version": 3
      },
      "file_extension": ".py",
      "mimetype": "text/x-python",
      "name": "python",
      "nbconvert_exporter": "python",
      "pygments_lexer": "ipython3",
      "version": "3.13.2"
    },
    "colab": {
      "provenance": [],
      "include_colab_link": true
    }
  },
  "nbformat": 4,
  "nbformat_minor": 0
}