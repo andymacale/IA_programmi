{
  "cells": [
    {
      "cell_type": "markdown",
      "metadata": {
        "id": "vNIBIlSbw8tM"
      },
      "source": [
        "# Algoritmo A* (tree search e graph search)"
      ]
    },
    {
      "cell_type": "markdown",
      "metadata": {
        "id": "-0H8N-cLw8tO"
      },
      "source": [
        "Creazione delle connessioni e delle euristiche"
      ]
    },
    {
      "cell_type": "code",
      "execution_count": 1,
      "metadata": {
        "id": "VYY_uk6Mw8tO"
      },
      "outputs": [],
      "source": [
        "connections = {} # distanze reali\n",
        "h = {} # distanze in linea d'aria (euristiche)\n",
        "connections['Arad'] = [['Sibiu', 140], ['Timisoara', 118], ['Zerind',  75]]\n",
        "connections['Bucarest'] = [['Fagaras', 211], ['Giurgiu', 90], ['Pitesti', 101], ['Urziceni', 85]]\n",
        "connections['Craiova'] = [['Drobeta', 120], ['Pitesti', 138], ['Rimnicu Vilcea', 146]]\n",
        "connections['Drobeta'] = [['Craiova', 120], ['Mehadia', 75]]\n",
        "connections['Eforie'] = [['Hirsova', 86]]\n",
        "connections['Fagaras'] = [['Bucarest', 211], ['Sibiu', 99]]\n",
        "connections['Giurgiu'] = [['Bucarest', 90]]\n",
        "connections['Hirsova'] = [['Eforie', 86], ['Urziceni', 98]]\n",
        "connections['Iasi'] = [['Neamt', 87], ['Vaslui', 92]]\n",
        "connections['Lugoj'] = [['Mehadia', 70], ['Timisoara', 111]]\n",
        "connections['Mehadia'] = [['Drobeta', 75], ['Lugoj', 70]]\n",
        "connections['Neamt'] = [['Iasi', 87]]\n",
        "connections['Oradea'] = [['Sibiu', 151], ['Zerind', 71]]\n",
        "connections['Pitesti'] = [['Bucarest', 101], ['Craiova', 138], ['Rimnicu Vilcea', 97]]\n",
        "connections['Rimnicu Vilcea'] = [['Craiova', 146], ['Pitesti', 97], ['Sibiu', 80]]\n",
        "connections['Sibiu'] = [['Arad', 140], ['Fagaras', 99], ['Oradea', 151], ['Rimnicu Vilcea', 80]]\n",
        "connections['Timisoara'] = [['Arad', 118], ['Lugoj', 111]]\n",
        "connections['Urziceni'] = [['Bucarest', 85], ['Hirsova', 98], ['Vaslui', 142]]\n",
        "connections['Vaslui'] = [['Iasi', 92], ['Urziceni', 142]]\n",
        "connections['Zerind'] = [['Arad', 75], ['Oradea', 71]]\n",
        "h['Arad'] = 366\n",
        "h['Bucarest'] = 0\n",
        "h['Craiova'] = 160\n",
        "h['Drobeta'] = 242\n",
        "h['Eforie'] = 161\n",
        "h['Fagaras'] = 176\n",
        "h['Giurgiu'] = 77\n",
        "h['Hirsova'] = 151\n",
        "h['Iasi'] = 226\n",
        "h['Lugoj'] = 244\n",
        "h['Mehadia'] = 241\n",
        "h['Neamt'] = 234\n",
        "h['Oradea'] = 380\n",
        "h['Pitesti'] = 100\n",
        "h['Rimnicu Vilcea'] = 193\n",
        "h['Sibiu'] = 253\n",
        "h['Timisoara'] = 329\n",
        "h['Urziceni'] = 80\n",
        "h['Vaslui'] = 199\n",
        "h['Zerind'] = 374"
      ]
    },
    {
      "cell_type": "markdown",
      "metadata": {
        "id": "eDL-8MJGw8tP"
      },
      "source": [
        "Creazione degli stati e dei nodi"
      ]
    },
    {
      "cell_type": "code",
      "execution_count": 2,
      "metadata": {
        "id": "yq0Tbrdfw8tP"
      },
      "outputs": [],
      "source": [
        "class State:\n",
        "\n",
        "    # COSTRUTTORE\n",
        "    def __init__(self, name = None):\n",
        "        if name == None:\n",
        "            self.name = self.getInitialState() # Stato iniziale\n",
        "        else:\n",
        "            self.name = name\n",
        "\n",
        "    # STATO INIZIALE\n",
        "    def getInitialState(self):\n",
        "        initialState = 'Arad'\n",
        "        return initialState\n",
        "\n",
        "    # SUCCESSORI\n",
        "    def successorFunction(self):\n",
        "        return connections[self.name] # E' una dictonary\n",
        "\n",
        "    # CONTROLLA SE E' UNO STATO OBIETTIVO\n",
        "    def checkGoalState(self):\n",
        "        return self.name == 'Bucarest'\n",
        "\n",
        "class Node:\n",
        "\n",
        "    # COSTRUTTORE\n",
        "    # state --> stato\n",
        "    # parent --> genitore\n",
        "    # f --> funzione di valutazione\n",
        "    # partial_path --> costo del cammino parziale\n",
        "    def __init__(self, state, parent, f, partial_path):\n",
        "        self.state = state\n",
        "        self.depth = 0 # profondita'\n",
        "        self.children = [] # array dei suoi figli\n",
        "        self.parent = parent\n",
        "        self.heuristic = f # euristica\n",
        "        self.partial_path = partial_path\n",
        "\n",
        "    # AGGIUNGI FIGLIO\n",
        "    def addChild(self, child):\n",
        "        self.children.append(child)\n",
        "        child.parent = self # metti come genitore del figlio se stesso\n",
        "        child.depth = self.depth + 1 # il figlio si trova piu' profondo di 1\n",
        "\n",
        "    # STAMPA IL CAMMINO\n",
        "    def printPath(self):\n",
        "        if self.parent != None:\n",
        "            # Passo ricorsivo\n",
        "            self.parent.printPath()\n",
        "            print(' -> ', end='')\n",
        "        print(self.state.name, end='') # Stampa del nome dello stato\n",
        "\n",
        ""
      ]
    },
    {
      "cell_type": "markdown",
      "metadata": {
        "id": "SRI5u_ZKw8tP"
      },
      "source": [
        "Definizione della frontiera. La frontiera viene implementata con una lista ordinata."
      ]
    },
    {
      "cell_type": "code",
      "execution_count": 3,
      "metadata": {
        "id": "NLTO8HTxw8tP"
      },
      "outputs": [],
      "source": [
        "class Element:\n",
        "    value = None # Funzione di valutazione\n",
        "    node = None # Nodo\n",
        "    next = None # Prossimo elemento\n",
        "\n",
        "    # COSTRUTTORE\n",
        "    def __init__(self, value, node):\n",
        "        self.value = value\n",
        "        self.node = node\n",
        "        self.next = None\n",
        "\n",
        "class Fringe:\n",
        "\n",
        "    # COSTRUTTORE\n",
        "    def __init__(self):\n",
        "        self.__head = None # Elemento in testa della frontiera\n",
        "        self.__tail = None # Elemento in coda della frontiera\n",
        "\n",
        "    # CONTROLLO FRONTIERA VUOTA\n",
        "    def empty_fringe(self):\n",
        "        return self.__head == None\n",
        "\n",
        "    # AGGIUNGE UN NODO IN FRONTIERA\n",
        "    def add(self, newNode):\n",
        "        if self.__head == None:\n",
        "            # Aggiungere primo elemento della frontiera\n",
        "            self.__head = newNode\n",
        "            self.__tail = self.__head\n",
        "            newNode.next = None\n",
        "        elif newNode.value < self.__head.value:\n",
        "            # Aggiungere un elemento in testa alla frontiera\n",
        "            newNode.next = self.__head\n",
        "            self.__head = newNode\n",
        "        elif newNode.value > self.__tail.value:\n",
        "            # Aggiungere un elemento in coda alla frontiera\n",
        "            self.__tail.next = newNode\n",
        "            self.__tail = newNode\n",
        "            newNode.next = None\n",
        "        else:\n",
        "            # Aggiungere un elemento in frontiera\n",
        "            temp = self.__head # variabile per lo scorrimento\n",
        "            # temp --> temp.next\n",
        "            # temp --> newNode --> temp.next\n",
        "            while temp.next != None and (newNode.value > temp.value):\n",
        "                temp = temp.next # passa al prossimo elemento\n",
        "            newNode.next = temp.next\n",
        "            temp.next = newNode\n",
        "\n",
        "    # Estrazione del primo elemento in frontiera\n",
        "    def estract(self):\n",
        "        out = self.__head # variabile di output\n",
        "        if out != None:\n",
        "            self.__head = self.__head.next # passa al prossimo elemento\n",
        "            out.next = None\n",
        "        return out\n",
        "\n",
        "    def print(self):\n",
        "        print('Fringe: ',end='')\n",
        "        temp = self.__head # variabile per lo scorrimento\n",
        "        while temp != None:\n",
        "            if temp.next == None:\n",
        "                print(self.node.state.name)\n",
        "            else:\n",
        "                print(self.node.state.name, '->', end=' ')\n",
        "            temp = temp.next"
      ]
    },
    {
      "cell_type": "markdown",
      "metadata": {
        "id": "hxF28EI-w8tQ"
      },
      "source": [
        "## A* - Tree search"
      ]
    },
    {
      "cell_type": "code",
      "execution_count": 4,
      "metadata": {
        "id": "JdtDzirEw8tQ"
      },
      "outputs": [],
      "source": [
        "def A_star_tree():\n",
        "\n",
        "    fringe = Fringe() # Frontiera\n",
        "    initialState = State() # Stato iniziale\n",
        "    heuristic = h[initialState.name] # Euristica\n",
        "    root = Node(initialState, None, heuristic, 0) # Nodo radice\n",
        "    # Metti il nodo radice in frontiera\n",
        "    element = Element(heuristic, root)\n",
        "    fringe.add(element)\n",
        "    print('Inizio algoritmo')\n",
        "    while not fringe.empty_fringe():\n",
        "        # Estrai il primo nodo dalla radice\n",
        "        estracted = fringe.estract()\n",
        "        currentNode = estracted.node\n",
        "        print(\"Nodo estratto: \", currentNode.state.name)\n",
        "        # Verifica che il nodo scelto sia il nodo obiettivo\n",
        "        if currentNode.state.checkGoalState():\n",
        "            # Nodo obiettivo trovato: stampa il cammino\n",
        "            print('Stato obiettivo raggiunto')\n",
        "            print('-------------------------')\n",
        "            print('Soluzione: ', end='')\n",
        "            currentNode.printPath()\n",
        "            break\n",
        "        # Metti i suoi successori in frontiera\n",
        "        childStates = currentNode.state.successorFunction()\n",
        "        #  childStates(nome,costo)\n",
        "        for (childState, distance) in childStates:\n",
        "            # Calcola la funzione di valutazione\n",
        "            g = currentNode.partial_path + distance # Funzione di costo\n",
        "            heuristic = h[childState] # Funzione euristica\n",
        "            f = g + heuristic # Funzione di valutazione\n",
        "            # Crea il nodo figlio e aggiungilo in frontiera\n",
        "            childNode = Node(State(childState), currentNode, f, g) # Crea un nuovo nodo\n",
        "            currentNode.addChild(childNode) # Aggiungi il nodo ai figli (Facoltativo)\n",
        "            element = Element(childNode.heuristic, childNode) # Crea nuovo elemento\n",
        "            fringe.add(element) # Aggiungi l'elemento in frontiera"
      ]
    },
    {
      "cell_type": "code",
      "execution_count": 5,
      "metadata": {
        "colab": {
          "base_uri": "https://localhost:8080/"
        },
        "id": "2juLdo1Dw8tQ",
        "outputId": "8d1a1eea-7543-4339-d48c-92ece7f8e65b"
      },
      "outputs": [
        {
          "output_type": "stream",
          "name": "stdout",
          "text": [
            "Inizio algoritmo\n",
            "Nodo estratto:  Arad\n",
            "Nodo estratto:  Sibiu\n",
            "Nodo estratto:  Rimnicu Vilcea\n",
            "Nodo estratto:  Fagaras\n",
            "Nodo estratto:  Timisoara\n",
            "Nodo estratto:  Pitesti\n",
            "Nodo estratto:  Bucarest\n",
            "Stato obiettivo raggiunto\n",
            "-------------------------\n",
            "Soluzione: Arad -> Sibiu -> Rimnicu Vilcea -> Pitesti -> Bucarest"
          ]
        }
      ],
      "source": [
        "A_star_tree()"
      ]
    },
    {
      "cell_type": "markdown",
      "metadata": {
        "id": "W4jR3oP5w8tR"
      },
      "source": [
        "## A* graph search"
      ]
    },
    {
      "cell_type": "code",
      "execution_count": 6,
      "metadata": {
        "id": "o1dikfPIw8tR"
      },
      "outputs": [],
      "source": [
        "def A_star_graph():\n",
        "\n",
        "    fringe = Fringe() # Frontiera\n",
        "    initialState = State() # Stato iniziale\n",
        "    heuristic = h[initialState.name] # Euristica\n",
        "    root = Node(initialState, None, heuristic, 0) # Nodo radice\n",
        "    # Metti il nodo radice in frontiera\n",
        "    element = Element(heuristic, root)\n",
        "    fringe.add(element)\n",
        "    close = [] # Close\n",
        "    print('Inizio algoritmo')\n",
        "    while not fringe.empty_fringe():\n",
        "        # Estrai il primo nodo dalla radice\n",
        "        estracted = fringe.estract()\n",
        "        currentNode = estracted.node\n",
        "        print(\"Nodo estratto: \", currentNode.state.name)\n",
        "        # Verifica che il nodo scelto sia il nodo obiettivo\n",
        "        if currentNode.state.checkGoalState():\n",
        "            # Nodo obiettivo trovato: stampa il cammino\n",
        "            print('Stato obiettivo raggiunto')\n",
        "            print('-------------------------')\n",
        "            print('Soluzione: ', end='')\n",
        "            currentNode.printPath()\n",
        "            break\n",
        "        # Controlla che il nodo non sia in frontiera\n",
        "        if currentNode.state.name not in close:\n",
        "            close.append(currentNode.state.name) # aggiungi lo stato nella close\n",
        "            # Metti i suoi successori in frontiera\n",
        "            childStates = currentNode.state.successorFunction()\n",
        "            #  childStates(nome,costo)\n",
        "            for (childState, distance) in childStates:\n",
        "                # Calcola la funzione di valutazione\n",
        "                g = currentNode.partial_path + distance # Funzione di costo\n",
        "                heuristic = h[childState] # Funzione euristica\n",
        "                f = g + heuristic # Funzione di valutazione\n",
        "                # Crea il nodo figlio e aggiungilo in frontiera\n",
        "                childNode = Node(State(childState), currentNode, f, g) # Crea un nuovo nodo\n",
        "                currentNode.addChild(childNode) # Aggiungi il nodo ai figli (Facoltativo)\n",
        "                # Aggiungi il figlio se non sta in close\n",
        "                if childNode.state.name not in close:\n",
        "                    element = Element(childNode.heuristic, childNode) # Crea nuovo elemento\n",
        "                    fringe.add(element) # Aggiungi l'elemento in frontiera"
      ]
    },
    {
      "cell_type": "code",
      "execution_count": 7,
      "metadata": {
        "colab": {
          "base_uri": "https://localhost:8080/"
        },
        "id": "mItl73nJw8tR",
        "outputId": "398f707a-bfe7-43ce-c345-16b46cc281b6"
      },
      "outputs": [
        {
          "output_type": "stream",
          "name": "stdout",
          "text": [
            "Inizio algoritmo\n",
            "Nodo estratto:  Arad\n",
            "Nodo estratto:  Sibiu\n",
            "Nodo estratto:  Rimnicu Vilcea\n",
            "Nodo estratto:  Fagaras\n",
            "Nodo estratto:  Timisoara\n",
            "Nodo estratto:  Pitesti\n",
            "Nodo estratto:  Bucarest\n",
            "Stato obiettivo raggiunto\n",
            "-------------------------\n",
            "Soluzione: Arad -> Sibiu -> Rimnicu Vilcea -> Pitesti -> Bucarest"
          ]
        }
      ],
      "source": [
        "A_star_graph()"
      ]
    }
  ],
  "metadata": {
    "kernelspec": {
      "display_name": "Python 3",
      "language": "python",
      "name": "python3"
    },
    "language_info": {
      "codemirror_mode": {
        "name": "ipython",
        "version": 3
      },
      "file_extension": ".py",
      "mimetype": "text/x-python",
      "name": "python",
      "nbconvert_exporter": "python",
      "pygments_lexer": "ipython3",
      "version": "3.13.2"
    },
    "colab": {
      "provenance": []
    }
  },
  "nbformat": 4,
  "nbformat_minor": 0
}