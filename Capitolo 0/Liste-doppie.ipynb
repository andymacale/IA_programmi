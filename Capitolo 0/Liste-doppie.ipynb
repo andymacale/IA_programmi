{
 "cells": [
  {
   "cell_type": "code",
   "execution_count": 23,
   "metadata": {},
   "outputs": [],
   "source": [
    "class Nodo:\n",
    "    elemento = ' '\n",
    "    prossimo = None\n",
    "    \n",
    "    def __init__(self, elem):\n",
    "        self.elemento = elem # elemento del nodo\n",
    "        self.precedente = None # elemento precedente del nodo\n",
    "        self.prossimo = None # prossimo elemento del nodo\n",
    "\n",
    "\n",
    "class Lista:\n",
    "    \n",
    "    def __init__(self):\n",
    "        self.__testa = None # testa della lista\n",
    "        self.__coda = None # coda della lista\n",
    "\n",
    "    def stampa(self):\n",
    "        elem = self.testa\n",
    "        print('Inizio ->', end = ' ')\n",
    "        while elem != None:\n",
    "            valore = elem.elemento\n",
    "            print(valore, '->', end = ' ')\n",
    "            elem = elem.prossimo\n",
    "            \n",
    "        print('Fine', end= ' ')\n",
    "        elem = self.coda\n",
    "        print('->', end = ' ')\n",
    "        while elem != None:\n",
    "            valore = elem.elemento\n",
    "            print(valore, '->', end = ' ')\n",
    "            elem = elem.precedente\n",
    "        print('Inizio')\n",
    "\n",
    "    def aggiungiTesta(self, nuovo):\n",
    "        if self.__testa == None:\n",
    "            # Inserimento del primo elemento\n",
    "            self.__testa = nuovo\n",
    "            self.__coda = nuovo\n",
    "            nuovo.prossimo = None\n",
    "            nuovo.precedente = None\n",
    "\n",
    "        else:\n",
    "            # Inserimento in testa\n",
    "            nuovo.prossimo = self.__testa\n",
    "            self.__testa.precedente = nuovo\n",
    "            self.__testa = nuovo\n",
    "        \n",
    "    def aggiungiCoda(self, nuovo):\n",
    "        if self.__testa == None:\n",
    "            # Inserimento del primo elemento\n",
    "            self.__testa = nuovo\n",
    "            self.__coda = nuovo\n",
    "            nuovo.precedente = None\n",
    "        else:\n",
    "            # Inserimento in coda\n",
    "            self.__coda.prossimo = nuovo\n",
    "            nuovo.precedente = self.__coda\n",
    "            self.__coda = nuovo\n",
    "        nuovo.prossimo = None\n",
    "\n",
    "    def aggiungiPosizione(self, nuovo, posizione):\n",
    "        if self.__testa == None:\n",
    "            # Inserimento del primo elemento\n",
    "            self.__testa = nuovo\n",
    "            self.__coda = nuovo\n",
    "            nuovo.prossimo = None\n",
    "            nuovo.precedente = None\n",
    "        else:\n",
    "            iter = self.__testa\n",
    "            ind = 0\n",
    "            while iter != None and ind < (posizione - 1):\n",
    "                iter = iter.prossimo\n",
    "                ind += 1\n",
    "            # iter -> iter.prossimo\n",
    "            # iter -> nuovo -> iter.prossimo\n",
    "            nuovo.prossimo = iter.prossimo\n",
    "            iter.prossimo = nuovo\n",
    "            nuovo.precedente = iter\n",
    "            nuovo.prossimo.precedente = nuovo # Collegamento tra iter.prossimo e nuovo con il precedente\n",
    "\n",
    "    def cancellaPosizione(self, posizione):\n",
    "        if self.__testa == None:\n",
    "            print('Lista vuota')\n",
    "        else:\n",
    "            iter = self.__testa\n",
    "            if posizione == 0:\n",
    "                # Cancellazione primo elemento\n",
    "                self.__testa = iter.prossimo\n",
    "                iter.prossimo.precedente = None\n",
    "                iter.prossimo = None\n",
    "                iter.precedente = None\n",
    "            else:\n",
    "                ind = 0\n",
    "                while iter.prossimo != None and ind < (posizione - 1):\n",
    "                    iter = iter.prossimo\n",
    "                    ind += 1\n",
    "                cancella = iter.prossimo\n",
    "                # iter -> cancella -> cancella.prossimo\n",
    "                # iter -> cancella.prossimo\n",
    "                iter.prossimo = cancella.prossimo\n",
    "                cancella.prossimo.precedente = iter\n",
    "                cancella.precedente = None\n",
    "                cancella.prossimo = None\n",
    "\n",
    "\n",
    "    # PER LA STAMPA\n",
    "    @property\n",
    "    def testa(self):\n",
    "        return self.__testa\n",
    "    \n",
    "    @property\n",
    "    def coda(self):\n",
    "        return self.__coda\n",
    "\n",
    "    "
   ]
  },
  {
   "cell_type": "code",
   "execution_count": 24,
   "metadata": {},
   "outputs": [],
   "source": [
    "lista = Lista()\n"
   ]
  },
  {
   "cell_type": "code",
   "execution_count": 25,
   "metadata": {},
   "outputs": [
    {
     "name": "stdout",
     "output_type": "stream",
     "text": [
      "Inizio -> B -> A -> Fine -> A -> B -> Inizio\n"
     ]
    }
   ],
   "source": [
    "\n",
    "lista.aggiungiTesta(Nodo('A'))\n",
    "lista.aggiungiTesta(Nodo('B'))\n",
    "lista.stampa()"
   ]
  },
  {
   "cell_type": "code",
   "execution_count": 26,
   "metadata": {},
   "outputs": [
    {
     "name": "stdout",
     "output_type": "stream",
     "text": [
      "Inizio -> B -> A -> C -> D -> Fine -> D -> C -> A -> B -> Inizio\n"
     ]
    }
   ],
   "source": [
    "lista.aggiungiCoda(Nodo('C'))\n",
    "lista.aggiungiCoda(Nodo('D'))\n",
    "lista.stampa()"
   ]
  },
  {
   "cell_type": "code",
   "execution_count": 27,
   "metadata": {},
   "outputs": [
    {
     "name": "stdout",
     "output_type": "stream",
     "text": [
      "Inizio -> B -> E -> A -> C -> D -> Fine -> D -> C -> A -> E -> B -> Inizio\n"
     ]
    }
   ],
   "source": [
    "lista.aggiungiPosizione(Nodo('E'), 1)\n",
    "lista.stampa()"
   ]
  },
  {
   "cell_type": "code",
   "execution_count": 28,
   "metadata": {},
   "outputs": [
    {
     "name": "stdout",
     "output_type": "stream",
     "text": [
      "Inizio -> B -> A -> C -> D -> Fine -> D -> C -> A -> B -> Inizio\n"
     ]
    }
   ],
   "source": [
    "lista.cancellaPosizione(1)\n",
    "lista.stampa()"
   ]
  }
 ],
 "metadata": {
  "kernelspec": {
   "display_name": "Python 3",
   "language": "python",
   "name": "python3"
  },
  "language_info": {
   "codemirror_mode": {
    "name": "ipython",
    "version": 3
   },
   "file_extension": ".py",
   "mimetype": "text/x-python",
   "name": "python",
   "nbconvert_exporter": "python",
   "pygments_lexer": "ipython3",
   "version": "3.13.2"
  }
 },
 "nbformat": 4,
 "nbformat_minor": 2
}
