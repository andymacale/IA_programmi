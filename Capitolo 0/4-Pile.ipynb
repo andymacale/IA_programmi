{
 "cells": [
  {
   "cell_type": "code",
   "execution_count": 11,
   "metadata": {},
   "outputs": [],
   "source": [
    "class Nodo:\n",
    "    elemento = ' '\n",
    "    prossimo = None\n",
    "    \n",
    "    def __init__(self, elem):\n",
    "        self.elemento = elem # elemento del nodo\n",
    "        self.prossimo = None # prossimo elemento del nodo\n",
    "\n",
    "class Pila:\n",
    "    \n",
    "    def __init__(self):\n",
    "        self.__testa = None\n",
    "        self.__dimensione = 0\n",
    "\n",
    "    def stampa(self):\n",
    "        elem = self.testa\n",
    "        print('Inizio ->', end = ' ')\n",
    "        while elem != None:\n",
    "            valore = elem.elemento\n",
    "            print(valore, '->', end = ' ')\n",
    "            elem = elem.prossimo\n",
    "        print('Fine (', end='')\n",
    "        print(self.dimensione, end='')\n",
    "        print(')')\n",
    "\n",
    "    # Funzione push: aggiungere un elemento in testa\n",
    "    def push(self, nuovo):\n",
    "        if self.__testa == None:\n",
    "            # Push per pila vuota\n",
    "            self.__testa = nuovo\n",
    "            nuovo.prossimo = None \n",
    "        else:\n",
    "            # Push generico\n",
    "            nuovo.prossimo = self.__testa\n",
    "            self.__testa = nuovo\n",
    "        self.__dimensione += 1\n",
    "\n",
    "     # Funzione pop: rimuovere un elemento in testa e restituirlo in output\n",
    "    def pop(self):\n",
    "        if self.__testa == None:\n",
    "            print('Pila vuota')\n",
    "            return None\n",
    "        elem = self.__testa\n",
    "        self.__testa = self.__testa.prossimo\n",
    "        self.__dimensione -= 1\n",
    "        elem.prossimo = None\n",
    "        return elem\n",
    "\n",
    "    # PER LA STAMPA\n",
    "    @property\n",
    "    def testa(self):\n",
    "        return self.__testa\n",
    "    \n",
    "    @property\n",
    "    def dimensione(self):\n",
    "        return self.__dimensione"
   ]
  },
  {
   "cell_type": "code",
   "execution_count": 12,
   "metadata": {},
   "outputs": [],
   "source": [
    "pila = Pila()"
   ]
  },
  {
   "cell_type": "code",
   "execution_count": 13,
   "metadata": {},
   "outputs": [
    {
     "name": "stdout",
     "output_type": "stream",
     "text": [
      "Inizio -> A -> B -> C -> Fine (3)\n"
     ]
    }
   ],
   "source": [
    "pila.push(Nodo('C'))\n",
    "pila.push(Nodo('B'))\n",
    "pila.push(Nodo('A'))\n",
    "pila.stampa()"
   ]
  },
  {
   "cell_type": "code",
   "execution_count": 14,
   "metadata": {},
   "outputs": [
    {
     "data": {
      "text/plain": [
       "'A'"
      ]
     },
     "execution_count": 14,
     "metadata": {},
     "output_type": "execute_result"
    }
   ],
   "source": [
    "dato = pila.pop()\n",
    "dato.elemento\n"
   ]
  },
  {
   "cell_type": "code",
   "execution_count": 15,
   "metadata": {},
   "outputs": [
    {
     "name": "stdout",
     "output_type": "stream",
     "text": [
      "Inizio -> B -> C -> Fine (2)\n"
     ]
    }
   ],
   "source": [
    "pila.stampa()"
   ]
  }
 ],
 "metadata": {
  "kernelspec": {
   "display_name": "Python 3",
   "language": "python",
   "name": "python3"
  },
  "language_info": {
   "codemirror_mode": {
    "name": "ipython",
    "version": 3
   },
   "file_extension": ".py",
   "mimetype": "text/x-python",
   "name": "python",
   "nbconvert_exporter": "python",
   "pygments_lexer": "ipython3",
   "version": "3.13.2"
  }
 },
 "nbformat": 4,
 "nbformat_minor": 2
}
