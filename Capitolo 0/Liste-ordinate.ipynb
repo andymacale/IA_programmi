{
 "cells": [
  {
   "cell_type": "code",
   "execution_count": 6,
   "metadata": {},
   "outputs": [],
   "source": [
    "class Nodo:\n",
    "    valore = None\n",
    "    prossimo = None\n",
    "    \n",
    "    def __init__(self, elem):\n",
    "        self.valore = elem # elemento del nodo\n",
    "        self.prossimo = None # prossimo elemento del nodo\n",
    "\n",
    "class Lista:\n",
    "    \n",
    "    def __init__(self):\n",
    "        self.__testa = None\n",
    "        self.__coda = None\n",
    "\n",
    "    def stampa(self):\n",
    "        elem = self.testa\n",
    "        print('Inizio ->', end = ' ')\n",
    "        while elem != None:\n",
    "            numero = elem.valore\n",
    "            print(numero, '->', end = ' ')\n",
    "            elem = elem.prossimo\n",
    "        print('Fine')\n",
    "\n",
    "    def aggiungi(self, nuovo):\n",
    "        if self.__testa == None:\n",
    "            self.__testa = nuovo\n",
    "            self.__coda = nuovo\n",
    "            nuovo.prossimo = None\n",
    "        elif nuovo.valore < self.__testa.valore:\n",
    "            nuovo.prossimo = self.__testa\n",
    "            self.__testa = nuovo\n",
    "        elif nuovo.valore > self.__coda.valore:\n",
    "            self.__coda.prossimo = nuovo\n",
    "            self.__coda = nuovo\n",
    "            nuovo.prossimo = None\n",
    "        else:\n",
    "            iter = self.__testa\n",
    "            while iter.prossimo != None and nuovo.valore > iter.prossimo.valore:\n",
    "                iter = iter.prossimo\n",
    "            nuovo.prossimo = iter.prossimo\n",
    "            iter.prossimo = nuovo\n",
    "\n",
    "    # PER LA STAMPA\n",
    "    @property\n",
    "    def testa(self):\n",
    "        return self.__testa"
   ]
  },
  {
   "cell_type": "code",
   "execution_count": 7,
   "metadata": {},
   "outputs": [],
   "source": [
    "lista = Lista()"
   ]
  },
  {
   "cell_type": "code",
   "execution_count": 8,
   "metadata": {},
   "outputs": [
    {
     "name": "stdout",
     "output_type": "stream",
     "text": [
      "Inizio -> 1 -> 2 -> 3 -> 4 -> 5 -> Fine\n"
     ]
    }
   ],
   "source": [
    "lista.aggiungi(Nodo(3))\n",
    "lista.aggiungi(Nodo(4))\n",
    "lista.aggiungi(Nodo(2))\n",
    "lista.aggiungi(Nodo(1))\n",
    "lista.aggiungi(Nodo(5))\n",
    "lista.stampa()"
   ]
  }
 ],
 "metadata": {
  "kernelspec": {
   "display_name": "Python 3",
   "language": "python",
   "name": "python3"
  },
  "language_info": {
   "codemirror_mode": {
    "name": "ipython",
    "version": 3
   },
   "file_extension": ".py",
   "mimetype": "text/x-python",
   "name": "python",
   "nbconvert_exporter": "python",
   "pygments_lexer": "ipython3",
   "version": "3.13.2"
  }
 },
 "nbformat": 4,
 "nbformat_minor": 2
}
