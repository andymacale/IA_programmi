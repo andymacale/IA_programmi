{
  "cells": [
    {
      "cell_type": "markdown",
      "metadata": {
        "id": "SXzHELCowp5k"
      },
      "source": [
        "# Problema delle n regine - Simulated Annealing"
      ]
    },
    {
      "cell_type": "markdown",
      "metadata": {
        "id": "p0a-wIjUwp5l"
      },
      "source": [
        "## Importazione delle librerie Python e parametri"
      ]
    },
    {
      "cell_type": "code",
      "execution_count": 1,
      "metadata": {
        "id": "5TNkFsatwp5l"
      },
      "outputs": [],
      "source": [
        "import random # Generazione dei numeri random\n",
        "import numpy as np # Per la scacchiera (matrice)\n",
        "import math # Per la probabilità"
      ]
    },
    {
      "cell_type": "code",
      "execution_count": 2,
      "metadata": {
        "id": "3WQ_m6tCwp5m"
      },
      "outputs": [],
      "source": [
        "TEMP_I = 30 # T iniziale\n",
        "TEMP_F = 0.2 # T finale\n",
        "ALFA = 0.99 # prodotto per diminuire t\n",
        "STEPS_PER_CHANGE = 100 # numero di step per ciclo\n",
        "\n",
        "DIM = 20   # DIM della scacchiera (NXN)"
      ]
    },
    {
      "cell_type": "markdown",
      "metadata": {
        "id": "XC_Vir9wwp5m"
      },
      "source": [
        "## Scacchiera e regine"
      ]
    },
    {
      "cell_type": "markdown",
      "metadata": {
        "id": "crCGMBOmwp5m"
      },
      "source": [
        "Tweak: per scambiare due colonne"
      ]
    },
    {
      "cell_type": "code",
      "execution_count": 3,
      "metadata": {
        "id": "mOM7mI3Nwp5m"
      },
      "outputs": [],
      "source": [
        "def tweak(sol):\n",
        "    sol_copy = np.copy(sol) # Copia la soluzione\n",
        "    x = random.randint(0, DIM-1) # indice colonna 1\n",
        "    y = random.randint(0, DIM-1) # indice colonna 2\n",
        "    # Per evitare che le due colonne scelta siano uguali\n",
        "    while x == y:\n",
        "        y = random.randint(0, DIM-1)\n",
        "    # Scambia le due colonne\n",
        "    temp = sol_copy[y]\n",
        "    sol_copy[y] = sol_copy[x]\n",
        "    sol_copy[x] = temp\n",
        "    return sol_copy"
      ]
    },
    {
      "cell_type": "markdown",
      "metadata": {
        "id": "1v8soMpVwp5m"
      },
      "source": [
        "Inizializza lo stato inziale della scacchiera"
      ]
    },
    {
      "cell_type": "code",
      "execution_count": 4,
      "metadata": {
        "id": "a1YJfRzxwp5m"
      },
      "outputs": [],
      "source": [
        "def init(sol):\n",
        "    # Esegui tante volte quante sono le colonne\n",
        "    # della scacchiera\n",
        "    for ind in range(0, DIM-1):\n",
        "        sol = tweak(sol)\n",
        "    return sol\n"
      ]
    },
    {
      "cell_type": "markdown",
      "metadata": {
        "id": "WtzkAokswp5n"
      },
      "source": [
        "Stampa della scacchiera"
      ]
    },
    {
      "cell_type": "code",
      "execution_count": 5,
      "metadata": {
        "id": "2xEp-moZwp5n"
      },
      "outputs": [],
      "source": [
        "def print_board(sol):\n",
        "    board = [[0] * DIM for i in range(DIM)]\n",
        "    for x in range(0,DIM):\n",
        "        board[sol[x]][x] = 'Q'\n",
        "    print(\"SCACCHIERA\", '\\n')\n",
        "    for x in range(0,DIM):\n",
        "        for y in range(0,DIM):\n",
        "            if(board[x][y]=='Q'):\n",
        "                print(\"Q   \",end=''),\n",
        "            else:\n",
        "                print(\".   \",end=''),\n",
        "        print(\"\\n\")\n",
        "    print(\"\\n\\n\")"
      ]
    },
    {
      "cell_type": "markdown",
      "metadata": {
        "id": "qOetTyv2wp5n"
      },
      "source": [
        "## Calcolo dell'energia"
      ]
    },
    {
      "cell_type": "code",
      "execution_count": 6,
      "metadata": {
        "id": "Q5Pc1Fxswp5n"
      },
      "outputs": [],
      "source": [
        "def energy(state):\n",
        "    # Creazione della scacchiera\n",
        "    board = [[0] * DIM for ind in range(DIM)]\n",
        "    # Posizione delle regine\n",
        "    for col in range(0, DIM):\n",
        "        board[state[col]][col] = 'Q'\n",
        "    # Possibili spostamenti sulla scacchiera\n",
        "    dx = [-1, 1, -1, 1]\n",
        "    dy = [-1, 1, 1, -1]\n",
        "    # Calcolo del numero di conflitti\n",
        "    conflitti = 0\n",
        "    for ind in range(0, DIM):\n",
        "        x = state[ind] # regina\n",
        "        y = ind # colonna corrente\n",
        "        # Per gli attacchi in diagonale\n",
        "        for inx in range(0, 4):\n",
        "            tempx = x # per spostarsi su x\n",
        "            tempy = y # spostarsi su y\n",
        "            while True:\n",
        "                tempx += dx[inx] # sposta su x\n",
        "                tempy += dy[inx] # sposta su y\n",
        "                if  ((tempx < 0) or\n",
        "                    (tempx >= DIM) or\n",
        "                    (tempy < 0) or\n",
        "                    (tempy >= DIM)):\n",
        "                    break # hai raggiunto il bordo\n",
        "                if board[tempx][tempy] == 'Q':\n",
        "                    conflitti += 1 # trovata una regina\n",
        "    return conflitti"
      ]
    },
    {
      "cell_type": "markdown",
      "metadata": {
        "id": "hohZlsLIwp5n"
      },
      "source": [
        "## Algoritmo vero e proprio"
      ]
    },
    {
      "cell_type": "code",
      "execution_count": 7,
      "metadata": {
        "id": "1XPWzabQwp5n"
      },
      "outputs": [],
      "source": [
        "def simulated_annealing():\n",
        "    # Stato iniziale\n",
        "    current = init(range(0, DIM)) # stato di current\n",
        "    current_energy = energy(current) # valore di current\n",
        "    # Inizializza la best\n",
        "    best = current\n",
        "    best_energy = current_energy\n",
        "    temperature = TEMP_I\n",
        "    # Esecuzione dell'algoritmo\n",
        "    while temperature > TEMP_F and best_energy != 0:\n",
        "        for step in range(0, STEPS_PER_CHANGE):\n",
        "            succ = False # verifica se lo stato e' un successore\n",
        "            next = tweak(current) # stato di next\n",
        "            next_energy = energy(next) # valore di next\n",
        "            if next_energy < current_energy:\n",
        "                # Successore accettato\n",
        "                succ = True\n",
        "            else:\n",
        "                # Calcolo probabilistico\n",
        "                delta = next_energy - current_energy\n",
        "                prop = math.exp(-delta/temperature) # link function\n",
        "                test = random.random()\n",
        "                if test < prop:\n",
        "                    # Successore accettato\n",
        "                    succ = True\n",
        "            if succ:\n",
        "                # Poni current uguale a next\n",
        "                current = next\n",
        "                current_energy = next_energy\n",
        "                if current_energy < best_energy:\n",
        "                    # Nuovo best trovato\n",
        "                    best = current\n",
        "                    best_energy = current_energy\n",
        "        # Diminuisci la temperatura\n",
        "        # N.B.: Se moltipli che 0.99 non arriverai mai a 0\n",
        "        temperature *= ALFA\n",
        "    return best"
      ]
    },
    {
      "cell_type": "markdown",
      "metadata": {
        "id": "ue7uYKZowp5o"
      },
      "source": [
        "## Main"
      ]
    },
    {
      "cell_type": "code",
      "execution_count": 8,
      "metadata": {
        "id": "Zj-5F_-Gwp5o"
      },
      "outputs": [],
      "source": [
        "solution = simulated_annealing()"
      ]
    },
    {
      "cell_type": "code",
      "execution_count": 9,
      "metadata": {
        "id": "IQPmQXbswp5o",
        "outputId": "0ce20b19-2292-4b6a-ca65-158e955cbd87",
        "colab": {
          "base_uri": "https://localhost:8080/"
        }
      },
      "outputs": [
        {
          "output_type": "stream",
          "name": "stdout",
          "text": [
            "SCACCHIERA \n",
            "\n",
            ".   .   .   .   .   .   .   .   .   .   .   Q   .   .   .   .   .   .   .   .   \n",
            "\n",
            ".   .   .   .   .   .   Q   .   .   .   .   .   .   .   .   .   .   .   .   .   \n",
            "\n",
            ".   .   .   .   .   .   .   .   .   .   .   .   .   .   .   .   .   .   Q   .   \n",
            "\n",
            ".   Q   .   .   .   .   .   .   .   .   .   .   .   .   .   .   .   .   .   .   \n",
            "\n",
            ".   .   .   .   .   .   .   .   .   .   Q   .   .   .   .   .   .   .   .   .   \n",
            "\n",
            ".   .   .   .   .   .   .   .   .   .   .   .   .   .   Q   .   .   .   .   .   \n",
            "\n",
            ".   .   .   .   .   .   .   .   .   Q   .   .   .   .   .   .   .   .   .   .   \n",
            "\n",
            ".   .   .   Q   .   .   .   .   .   .   .   .   .   .   .   .   .   .   .   .   \n",
            "\n",
            ".   .   .   .   .   .   .   .   .   .   .   .   .   .   .   .   Q   .   .   .   \n",
            "\n",
            ".   .   .   .   .   .   .   .   .   .   .   .   .   .   .   .   .   .   .   Q   \n",
            "\n",
            ".   .   .   .   .   .   .   Q   .   .   .   .   .   .   .   .   .   .   .   .   \n",
            "\n",
            ".   .   .   .   .   Q   .   .   .   .   .   .   .   .   .   .   .   .   .   .   \n",
            "\n",
            "Q   .   .   .   .   .   .   .   .   .   .   .   .   .   .   .   .   .   .   .   \n",
            "\n",
            ".   .   .   .   .   .   .   .   .   .   .   .   Q   .   .   .   .   .   .   .   \n",
            "\n",
            ".   .   .   .   .   .   .   .   .   .   .   .   .   .   .   Q   .   .   .   .   \n",
            "\n",
            ".   .   .   .   .   .   .   .   .   .   .   .   .   .   .   .   .   Q   .   .   \n",
            "\n",
            ".   .   Q   .   .   .   .   .   .   .   .   .   .   .   .   .   .   .   .   .   \n",
            "\n",
            ".   .   .   .   Q   .   .   .   .   .   .   .   .   .   .   .   .   .   .   .   \n",
            "\n",
            ".   .   .   .   .   .   .   .   .   .   .   .   .   Q   .   .   .   .   .   .   \n",
            "\n",
            ".   .   .   .   .   .   .   .   Q   .   .   .   .   .   .   .   .   .   .   .   \n",
            "\n",
            "\n",
            "\n",
            "\n"
          ]
        }
      ],
      "source": [
        "print_board(solution)"
      ]
    }
  ],
  "metadata": {
    "kernelspec": {
      "display_name": "Python 3",
      "language": "python",
      "name": "python3"
    },
    "language_info": {
      "codemirror_mode": {
        "name": "ipython",
        "version": 3
      },
      "file_extension": ".py",
      "mimetype": "text/x-python",
      "name": "python",
      "nbconvert_exporter": "python",
      "pygments_lexer": "ipython3",
      "version": "3.13.2"
    },
    "colab": {
      "provenance": []
    }
  },
  "nbformat": 4,
  "nbformat_minor": 0
}